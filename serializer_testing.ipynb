{
 "cells": [
  {
   "cell_type": "markdown",
   "metadata": {},
   "source": [
    "# Pysoccer library"
   ]
  },
  {
   "cell_type": "markdown",
   "metadata": {},
   "source": [
    "## 1. Import libraries"
   ]
  },
  {
   "cell_type": "code",
   "execution_count": 1,
   "metadata": {},
   "outputs": [],
   "source": [
    "from pysoccer.attributes import *\n",
    "from pysoccer.event import *\n",
    "from pysoccer.serializers.WyscoutSerializer.eventSerializer import *\n",
    "from pysoccer.serializers.WyscoutSerializer.matchSerializer import *\n",
    "import json\n",
    "from collections import defaultdict\n",
    "from collections import Counter\n",
    "import numpy as np\n",
    "import operator\n",
    "import matplotlib.pyplot as plt \n",
    "import pandas as pd\n",
    "from pysoccer.FCPython import createPitch"
   ]
  },
  {
   "cell_type": "markdown",
   "metadata": {},
   "source": [
    "## 2. Load public dataset"
   ]
  },
  {
   "cell_type": "markdown",
   "metadata": {},
   "source": [
    "We import the *matches* and *event* data sets from the data folder we stored them before."
   ]
  },
  {
   "cell_type": "code",
   "execution_count": 2,
   "metadata": {},
   "outputs": [],
   "source": [
    "matches, events = {}, {}\n",
    "with open('./pysoccer/data/events/events_%s.json' %'Italy') as json_data:\n",
    "    events = json.load(json_data)\n",
    "with open('./pysoccer/data/matches/matches_%s.json' %'Italy') as json_data:\n",
    "    matches = json.load(json_data)"
   ]
  },
  {
   "cell_type": "markdown",
   "metadata": {},
   "source": [
    "We now create two dictionaries containing *matches* and *event*. We use respectively the *wyId* and the *matchID* as keys for the values."
   ]
  },
  {
   "cell_type": "code",
   "execution_count": 3,
   "metadata": {},
   "outputs": [],
   "source": [
    "match_id2events = defaultdict(list)\n",
    "match_id2match = defaultdict(dict)\n",
    "for event in events:\n",
    "    match_id = event['matchId']\n",
    "    match_id2events[match_id].append(event)                                     \n",
    "for match in matches:\n",
    "    match_id = match['wyId']\n",
    "    match_id2match[match_id] = match"
   ]
  },
  {
   "cell_type": "markdown",
   "metadata": {},
   "source": [
    "## 3. Structure of data"
   ]
  },
  {
   "cell_type": "markdown",
   "metadata": {},
   "source": [
    "### 3.A. Matches"
   ]
  },
  {
   "cell_type": "code",
   "execution_count": 4,
   "metadata": {},
   "outputs": [
    {
     "data": {
      "text/plain": [
       "{'status': 'Played',\n",
       " 'roundId': 4406278,\n",
       " 'gameweek': 38,\n",
       " 'teamsData': {'3162': {'scoreET': 0,\n",
       "   'coachId': 251025,\n",
       "   'side': 'home',\n",
       "   'teamId': 3162,\n",
       "   'score': 2,\n",
       "   'scoreP': 0,\n",
       "   'hasFormation': 1,\n",
       "   'formation': {'bench': [{'playerId': 4792,\n",
       "      'ownGoals': '2',\n",
       "      'redCards': '93',\n",
       "      'goals': '0',\n",
       "      'yellowCards': '0'},\n",
       "     {'playerId': 20972,\n",
       "      'ownGoals': '0',\n",
       "      'redCards': '0',\n",
       "      'goals': 'null',\n",
       "      'yellowCards': '0'},\n",
       "     {'playerId': 256479,\n",
       "      'ownGoals': '0',\n",
       "      'redCards': '0',\n",
       "      'goals': 'null',\n",
       "      'yellowCards': '0'},\n",
       "     {'playerId': 241675,\n",
       "      'ownGoals': '0',\n",
       "      'redCards': '0',\n",
       "      'goals': 'null',\n",
       "      'yellowCards': '0'},\n",
       "     {'playerId': 260250,\n",
       "      'ownGoals': '0',\n",
       "      'redCards': '0',\n",
       "      'goals': 'null',\n",
       "      'yellowCards': '0'},\n",
       "     {'playerId': 69417,\n",
       "      'ownGoals': '0',\n",
       "      'redCards': '0',\n",
       "      'goals': 'null',\n",
       "      'yellowCards': '0'},\n",
       "     {'playerId': 20460,\n",
       "      'ownGoals': '0',\n",
       "      'redCards': '0',\n",
       "      'goals': 'null',\n",
       "      'yellowCards': '0'},\n",
       "     {'playerId': 101635,\n",
       "      'ownGoals': '0',\n",
       "      'redCards': '0',\n",
       "      'goals': 'null',\n",
       "      'yellowCards': '0'},\n",
       "     {'playerId': 20575,\n",
       "      'ownGoals': '0',\n",
       "      'redCards': '0',\n",
       "      'goals': 'null',\n",
       "      'yellowCards': '0'},\n",
       "     {'playerId': 7926,\n",
       "      'ownGoals': '0',\n",
       "      'redCards': '0',\n",
       "      'goals': 'null',\n",
       "      'yellowCards': '0'},\n",
       "     {'playerId': 208865,\n",
       "      'ownGoals': '2',\n",
       "      'redCards': '0',\n",
       "      'goals': '0',\n",
       "      'yellowCards': '0'},\n",
       "     {'playerId': 37745,\n",
       "      'ownGoals': '2',\n",
       "      'redCards': '0',\n",
       "      'goals': '0',\n",
       "      'yellowCards': '0'}],\n",
       "    'lineup': [{'playerId': 21384,\n",
       "      'ownGoals': '2',\n",
       "      'redCards': '0',\n",
       "      'goals': '0',\n",
       "      'yellowCards': '0'},\n",
       "     {'playerId': 20550,\n",
       "      'ownGoals': '2',\n",
       "      'redCards': '0',\n",
       "      'goals': '0',\n",
       "      'yellowCards': '0'},\n",
       "     {'playerId': 130,\n",
       "      'ownGoals': '0',\n",
       "      'redCards': '0',\n",
       "      'goals': 'null',\n",
       "      'yellowCards': '0'},\n",
       "     {'playerId': 346908,\n",
       "      'ownGoals': '0',\n",
       "      'redCards': '0',\n",
       "      'goals': 'null',\n",
       "      'yellowCards': '0'},\n",
       "     {'playerId': 376362,\n",
       "      'ownGoals': '0',\n",
       "      'redCards': '0',\n",
       "      'goals': 'null',\n",
       "      'yellowCards': '25'},\n",
       "     {'playerId': 166534,\n",
       "      'ownGoals': '0',\n",
       "      'redCards': '0',\n",
       "      'goals': 'null',\n",
       "      'yellowCards': '63'},\n",
       "     {'playerId': 20561,\n",
       "      'ownGoals': '2',\n",
       "      'redCards': '79',\n",
       "      'goals': '0',\n",
       "      'yellowCards': '33'},\n",
       "     {'playerId': 40806,\n",
       "      'ownGoals': '0',\n",
       "      'redCards': '0',\n",
       "      'goals': '1',\n",
       "      'yellowCards': '0'},\n",
       "     {'playerId': 265865,\n",
       "      'ownGoals': '0',\n",
       "      'redCards': '0',\n",
       "      'goals': 'null',\n",
       "      'yellowCards': '0'},\n",
       "     {'playerId': 228928,\n",
       "      'ownGoals': '0',\n",
       "      'redCards': '0',\n",
       "      'goals': 'null',\n",
       "      'yellowCards': '0'},\n",
       "     {'playerId': 7965,\n",
       "      'ownGoals': '0',\n",
       "      'redCards': '0',\n",
       "      'goals': 'null',\n",
       "      'yellowCards': '36'}],\n",
       "    'substitutions': [{'playerIn': 37745, 'playerOut': 21384, 'minute': 75},\n",
       "     {'playerIn': 208865, 'playerOut': 20550, 'minute': 77},\n",
       "     {'playerIn': 7926, 'playerOut': 130, 'minute': 83}]},\n",
       "   'scoreHT': 2},\n",
       "  '3161': {'scoreET': 0,\n",
       "   'coachId': 101547,\n",
       "   'side': 'away',\n",
       "   'teamId': 3161,\n",
       "   'score': 3,\n",
       "   'scoreP': 0,\n",
       "   'hasFormation': 1,\n",
       "   'formation': {'bench': [{'playerId': 3543,\n",
       "      'ownGoals': '0',\n",
       "      'redCards': '0',\n",
       "      'goals': 'null',\n",
       "      'yellowCards': '0'},\n",
       "     {'playerId': 405608,\n",
       "      'ownGoals': '0',\n",
       "      'redCards': '0',\n",
       "      'goals': 'null',\n",
       "      'yellowCards': '0'},\n",
       "     {'playerId': 20572,\n",
       "      'ownGoals': '0',\n",
       "      'redCards': '0',\n",
       "      'goals': 'null',\n",
       "      'yellowCards': '0'},\n",
       "     {'playerId': 86785,\n",
       "      'ownGoals': '0',\n",
       "      'redCards': '0',\n",
       "      'goals': 'null',\n",
       "      'yellowCards': '0'},\n",
       "     {'playerId': 7982,\n",
       "      'ownGoals': '0',\n",
       "      'redCards': '0',\n",
       "      'goals': 'null',\n",
       "      'yellowCards': '0'},\n",
       "     {'playerId': 70161,\n",
       "      'ownGoals': '0',\n",
       "      'redCards': '0',\n",
       "      'goals': 'null',\n",
       "      'yellowCards': '0'},\n",
       "     {'playerId': 298212,\n",
       "      'ownGoals': '0',\n",
       "      'redCards': '0',\n",
       "      'goals': 'null',\n",
       "      'yellowCards': '0'},\n",
       "     {'playerId': 241676,\n",
       "      'ownGoals': '0',\n",
       "      'redCards': '0',\n",
       "      'goals': 'null',\n",
       "      'yellowCards': '0'},\n",
       "     {'playerId': 352993,\n",
       "      'ownGoals': '0',\n",
       "      'redCards': '0',\n",
       "      'goals': 'null',\n",
       "      'yellowCards': '0'},\n",
       "     {'playerId': 20626,\n",
       "      'ownGoals': '0',\n",
       "      'redCards': '0',\n",
       "      'goals': 'null',\n",
       "      'yellowCards': '0'},\n",
       "     {'playerId': 20519,\n",
       "      'ownGoals': '0',\n",
       "      'redCards': '0',\n",
       "      'goals': 'null',\n",
       "      'yellowCards': '0'}],\n",
       "    'lineup': [{'playerId': 20556,\n",
       "      'ownGoals': '0',\n",
       "      'redCards': '0',\n",
       "      'goals': 'null',\n",
       "      'yellowCards': '0'},\n",
       "     {'playerId': 3344,\n",
       "      'ownGoals': '0',\n",
       "      'redCards': '0',\n",
       "      'goals': 'null',\n",
       "      'yellowCards': '0'},\n",
       "     {'playerId': 21094,\n",
       "      'ownGoals': '0',\n",
       "      'redCards': '0',\n",
       "      'goals': '1',\n",
       "      'yellowCards': '47'},\n",
       "     {'playerId': 20571,\n",
       "      'ownGoals': '0',\n",
       "      'redCards': '0',\n",
       "      'goals': 'null',\n",
       "      'yellowCards': '0'},\n",
       "     {'playerId': 3431,\n",
       "      'ownGoals': '0',\n",
       "      'redCards': '0',\n",
       "      'goals': 'null',\n",
       "      'yellowCards': '23'},\n",
       "     {'playerId': 138408,\n",
       "      'ownGoals': '0',\n",
       "      'redCards': '0',\n",
       "      'goals': 'null',\n",
       "      'yellowCards': '0'},\n",
       "     {'playerId': 206314,\n",
       "      'ownGoals': '0',\n",
       "      'redCards': '0',\n",
       "      'goals': '1',\n",
       "      'yellowCards': '0'},\n",
       "     {'playerId': 69968,\n",
       "      'ownGoals': '0',\n",
       "      'redCards': '0',\n",
       "      'goals': 'null',\n",
       "      'yellowCards': '12'},\n",
       "     {'playerId': 14812,\n",
       "      'ownGoals': '1',\n",
       "      'redCards': '0',\n",
       "      'goals': 'null',\n",
       "      'yellowCards': '0'},\n",
       "     {'playerId': 116349,\n",
       "      'ownGoals': '2',\n",
       "      'redCards': '0',\n",
       "      'goals': '1',\n",
       "      'yellowCards': '83'},\n",
       "     {'playerId': 135903,\n",
       "      'ownGoals': '0',\n",
       "      'redCards': '0',\n",
       "      'goals': 'null',\n",
       "      'yellowCards': '0'}],\n",
       "    'substitutions': [{'playerIn': 20626, 'playerOut': 20556, 'minute': 60},\n",
       "     {'playerIn': 352993, 'playerOut': 3344, 'minute': 67},\n",
       "     {'playerIn': 20519, 'playerOut': 21094, 'minute': 79}]},\n",
       "   'scoreHT': 1}},\n",
       " 'seasonId': 181248,\n",
       " 'dateutc': '2018-05-20 18:45:00',\n",
       " 'winner': 3161,\n",
       " 'venue': '',\n",
       " 'wyId': 2576335,\n",
       " 'label': 'Lazio - Internazionale, 2 - 3',\n",
       " 'date': 'May 20, 2018 at 8:45:00 PM GMT+2',\n",
       " 'referees': [{'refereeId': 377206, 'role': 'referee'},\n",
       "  {'refereeId': 384945, 'role': 'secondAssistant'},\n",
       "  {'refereeId': 377241, 'role': 'fourthOfficial'}],\n",
       " 'duration': 'Regular',\n",
       " 'competitionId': 524}"
      ]
     },
     "execution_count": 4,
     "metadata": {},
     "output_type": "execute_result"
    }
   ],
   "source": [
    "a_match = list(match_id2match.keys())[0]\n",
    "match_id2match[a_match]"
   ]
  },
  {
   "cell_type": "markdown",
   "metadata": {},
   "source": [
    "### 3.B. Events"
   ]
  },
  {
   "cell_type": "code",
   "execution_count": 5,
   "metadata": {},
   "outputs": [
    {
     "data": {
      "text/plain": [
       "{'eventId': 8,\n",
       " 'subEventName': 'Simple pass',\n",
       " 'tags': [{'id': 1801}],\n",
       " 'playerId': 3344,\n",
       " 'positions': [{'y': 50, 'x': 49}, {'y': 58, 'x': 38}],\n",
       " 'matchId': 2576335,\n",
       " 'eventName': 'Pass',\n",
       " 'teamId': 3161,\n",
       " 'matchPeriod': '1H',\n",
       " 'eventSec': 2.4175900000000183,\n",
       " 'subEventId': 85,\n",
       " 'id': 253668302}"
      ]
     },
     "execution_count": 5,
     "metadata": {},
     "output_type": "execute_result"
    }
   ],
   "source": [
    "match_id2events[a_match][0]"
   ]
  },
  {
   "cell_type": "markdown",
   "metadata": {},
   "source": [
    "## 4. Serializing"
   ]
  },
  {
   "cell_type": "markdown",
   "metadata": {},
   "source": [
    "### 4.A. Serializing Events"
   ]
  },
  {
   "cell_type": "markdown",
   "metadata": {},
   "source": [
    "We then create a new object *WyscoutSerializer* that will do the serialization for us. We can call the *serialize* function that needs a list of Wyscout events as input and will return a list of standardized events."
   ]
  },
  {
   "cell_type": "code",
   "execution_count": 6,
   "metadata": {},
   "outputs": [
    {
     "name": "stdout",
     "output_type": "stream",
     "text": [
      "[WyscoutEventSerializer] events serialized. 1768 events processed\n"
     ]
    }
   ],
   "source": [
    "event_serializer = WyscoutEventSerializer()\n",
    "events = event_serializer.serialize(match_id2events[a_match])"
   ]
  },
  {
   "cell_type": "markdown",
   "metadata": {},
   "source": [
    "In *events* now we will find our list of standardized events. Below you can see how a standardized event looks."
   ]
  },
  {
   "cell_type": "code",
   "execution_count": 7,
   "metadata": {},
   "outputs": [
    {
     "data": {
      "text/plain": [
       "PossessionEvent(event_id=253668302, team_id=3161, player_id=3344, match_id=2576335, period='1H', timestamp=2.4175900000000183, start_position=Point(x=49, y=50), end_position=Point(x=38, y=58), outcome='success', label='Pass-Simple pass-success', tags=[1801], phase_id=0, phase_end='ball lost', phase_possessing_team=3161, is_duel=False, challenged_player=None, is_shot=False, goal_position=None, is_goal=False, is_pass=True, receiver_player_id=116349, is_assist=False, is_keypass=False)"
      ]
     },
     "execution_count": 7,
     "metadata": {},
     "output_type": "execute_result"
    }
   ],
   "source": [
    "events[0]"
   ]
  },
  {
   "cell_type": "markdown",
   "metadata": {},
   "source": [
    "We see that it is a *PossessionEvent*, precisely a pass. It was accurate and the ball passed from the player with id 3344 to the player with id 116349."
   ]
  },
  {
   "cell_type": "markdown",
   "metadata": {},
   "source": [
    "### 3.B. Serializing Matches"
   ]
  },
  {
   "cell_type": "markdown",
   "metadata": {},
   "source": [
    "In the same way we did for events we can create a new object *WyscoutMatchSerializer* that will serializer our matches. We call the *serialize* function that needs a dict containing Wyscout matches as values and Wyscout match_ids as keys as input. Then the function will return a dictionary containing serialized matches as values and the same keys."
   ]
  },
  {
   "cell_type": "code",
   "execution_count": 8,
   "metadata": {},
   "outputs": [],
   "source": [
    "match_serializer = WyscoutMatchSerializer()\n",
    "matches = match_serializer.serialize(match_id2match)"
   ]
  },
  {
   "cell_type": "markdown",
   "metadata": {},
   "source": [
    "We can see that the *matches*'s value for the *a_match* key is a standardized match that looks as follow."
   ]
  },
  {
   "cell_type": "code",
   "execution_count": 9,
   "metadata": {},
   "outputs": [
    {
     "data": {
      "text/plain": [
       "Match(competition_id=524, round_id=4406278, season_id=181248, date_utc='2018-05-20 18:45:00', match_id=2576335, label='Lazio - Internazionale, 2 - 3', home_team=Team(team_id='3162', coach_id=251025, score=2, formation=Formation(lineup=[Player(player_id=21384, played_minutes=15, yellow_cards='0', red_cards='0', own_goals='2', goals='0'), Player(player_id=20550, played_minutes=13, yellow_cards='0', red_cards='0', own_goals='2', goals='0'), Player(player_id=130, played_minutes=7, yellow_cards='0', red_cards='0', own_goals='0', goals='null'), Player(player_id=346908, played_minutes=90, yellow_cards='0', red_cards='0', own_goals='0', goals='null'), Player(player_id=376362, played_minutes=90, yellow_cards='25', red_cards='0', own_goals='0', goals='null'), Player(player_id=166534, played_minutes=90, yellow_cards='63', red_cards='0', own_goals='0', goals='null'), Player(player_id=20561, played_minutes=90, yellow_cards='33', red_cards='79', own_goals='2', goals='0'), Player(player_id=40806, played_minutes=90, yellow_cards='0', red_cards='0', own_goals='0', goals='1'), Player(player_id=265865, played_minutes=90, yellow_cards='0', red_cards='0', own_goals='0', goals='null'), Player(player_id=228928, played_minutes=90, yellow_cards='0', red_cards='0', own_goals='0', goals='null'), Player(player_id=7965, played_minutes=90, yellow_cards='36', red_cards='0', own_goals='0', goals='null')], bench=[Player(player_id=4792, played_minutes=90, yellow_cards='0', red_cards='93', own_goals='2', goals='0'), Player(player_id=20972, played_minutes=90, yellow_cards='0', red_cards='0', own_goals='0', goals='null'), Player(player_id=256479, played_minutes=90, yellow_cards='0', red_cards='0', own_goals='0', goals='null'), Player(player_id=241675, played_minutes=90, yellow_cards='0', red_cards='0', own_goals='0', goals='null'), Player(player_id=260250, played_minutes=90, yellow_cards='0', red_cards='0', own_goals='0', goals='null'), Player(player_id=69417, played_minutes=90, yellow_cards='0', red_cards='0', own_goals='0', goals='null'), Player(player_id=20460, played_minutes=90, yellow_cards='0', red_cards='0', own_goals='0', goals='null'), Player(player_id=101635, played_minutes=90, yellow_cards='0', red_cards='0', own_goals='0', goals='null'), Player(player_id=20575, played_minutes=90, yellow_cards='0', red_cards='0', own_goals='0', goals='null'), Player(player_id=7926, played_minutes=83, yellow_cards='0', red_cards='0', own_goals='0', goals='null'), Player(player_id=208865, played_minutes=77, yellow_cards='0', red_cards='0', own_goals='2', goals='0'), Player(player_id=37745, played_minutes=75, yellow_cards='0', red_cards='0', own_goals='2', goals='0')]), substitutions=[Substitution(player_in=37745, player_out=21384, timestamp=75), Substitution(player_in=208865, player_out=20550, timestamp=77), Substitution(player_in=7926, player_out=130, timestamp=83)]), away_team=Team(team_id='3161', coach_id=101547, score=3, formation=Formation(lineup=[Player(player_id=20556, played_minutes=30, yellow_cards='0', red_cards='0', own_goals='0', goals='null'), Player(player_id=3344, played_minutes=23, yellow_cards='0', red_cards='0', own_goals='0', goals='null'), Player(player_id=21094, played_minutes=11, yellow_cards='47', red_cards='0', own_goals='0', goals='1'), Player(player_id=20571, played_minutes=90, yellow_cards='0', red_cards='0', own_goals='0', goals='null'), Player(player_id=3431, played_minutes=90, yellow_cards='23', red_cards='0', own_goals='0', goals='null'), Player(player_id=138408, played_minutes=90, yellow_cards='0', red_cards='0', own_goals='0', goals='null'), Player(player_id=206314, played_minutes=90, yellow_cards='0', red_cards='0', own_goals='0', goals='1'), Player(player_id=69968, played_minutes=90, yellow_cards='12', red_cards='0', own_goals='0', goals='null'), Player(player_id=14812, played_minutes=90, yellow_cards='0', red_cards='0', own_goals='1', goals='null'), Player(player_id=116349, played_minutes=90, yellow_cards='83', red_cards='0', own_goals='2', goals='1'), Player(player_id=135903, played_minutes=90, yellow_cards='0', red_cards='0', own_goals='0', goals='null')], bench=[Player(player_id=3543, played_minutes=90, yellow_cards='0', red_cards='0', own_goals='0', goals='null'), Player(player_id=405608, played_minutes=90, yellow_cards='0', red_cards='0', own_goals='0', goals='null'), Player(player_id=20572, played_minutes=90, yellow_cards='0', red_cards='0', own_goals='0', goals='null'), Player(player_id=86785, played_minutes=90, yellow_cards='0', red_cards='0', own_goals='0', goals='null'), Player(player_id=7982, played_minutes=90, yellow_cards='0', red_cards='0', own_goals='0', goals='null'), Player(player_id=70161, played_minutes=90, yellow_cards='0', red_cards='0', own_goals='0', goals='null'), Player(player_id=298212, played_minutes=90, yellow_cards='0', red_cards='0', own_goals='0', goals='null'), Player(player_id=241676, played_minutes=90, yellow_cards='0', red_cards='0', own_goals='0', goals='null'), Player(player_id=352993, played_minutes=67, yellow_cards='0', red_cards='0', own_goals='0', goals='null'), Player(player_id=20626, played_minutes=60, yellow_cards='0', red_cards='0', own_goals='0', goals='null'), Player(player_id=20519, played_minutes=79, yellow_cards='0', red_cards='0', own_goals='0', goals='null')]), substitutions=[Substitution(player_in=20626, player_out=20556, timestamp=60), Substitution(player_in=352993, player_out=3344, timestamp=67), Substitution(player_in=20519, player_out=21094, timestamp=79)]), additional_attributes=[{'winner': 3161}, {'status': 'Played'}, {'duration': 'Regular'}, {'gameweek': 38}, {'referee': 377206}, {'secondAssistant': 384945}, {'fourthOfficial': 377241}])"
      ]
     },
     "execution_count": 9,
     "metadata": {},
     "output_type": "execute_result"
    }
   ],
   "source": [
    "matches[a_match]"
   ]
  },
  {
   "cell_type": "markdown",
   "metadata": {},
   "source": [
    "It's the *Lazio - Internazionale* match, played in the last round of the 2018 Serie A."
   ]
  },
  {
   "cell_type": "markdown",
   "metadata": {},
   "source": [
    "## 5. Basic statistics"
   ]
  },
  {
   "cell_type": "markdown",
   "metadata": {},
   "source": [
    "We can try to serialize all the events in the data set."
   ]
  },
  {
   "cell_type": "code",
   "execution_count": 10,
   "metadata": {},
   "outputs": [
    {
     "name": "stdout",
     "output_type": "stream",
     "text": [
      "[WyscoutEventSerializer] events serialized. 1784 events processed\n",
      "[WyscoutEventSerializer] events serialized. 1685 events processed\n",
      "[WyscoutEventSerializer] events serialized. 1599 events processed\n",
      "[WyscoutEventSerializer] events serialized. 1863 events processed\n",
      "[WyscoutEventSerializer] events serialized. 1868 events processed\n",
      "[WyscoutEventSerializer] events serialized. 1870 events processed\n",
      "[WyscoutEventSerializer] events serialized. 1930 events processed\n",
      "[WyscoutEventSerializer] events serialized. 1851 events processed\n",
      "[WyscoutEventSerializer] events serialized. 1649 events processed\n",
      "[WyscoutEventSerializer] events serialized. 1919 events processed\n",
      "[WyscoutEventSerializer] events serialized. 1711 events processed\n",
      "[WyscoutEventSerializer] events serialized. 1791 events processed\n",
      "[WyscoutEventSerializer] events serialized. 1784 events processed\n",
      "[WyscoutEventSerializer] events serialized. 1659 events processed\n",
      "[WyscoutEventSerializer] events serialized. 1815 events processed\n",
      "[WyscoutEventSerializer] events serialized. 1696 events processed\n",
      "[WyscoutEventSerializer] events serialized. 1923 events processed\n",
      "[WyscoutEventSerializer] events serialized. 1780 events processed\n",
      "[WyscoutEventSerializer] events serialized. 1569 events processed\n",
      "[WyscoutEventSerializer] events serialized. 1459 events processed\n",
      "[WyscoutEventSerializer] events serialized. 1837 events processed\n",
      "[WyscoutEventSerializer] events serialized. 1676 events processed\n",
      "[WyscoutEventSerializer] events serialized. 1903 events processed\n",
      "[WyscoutEventSerializer] events serialized. 1877 events processed\n",
      "[WyscoutEventSerializer] events serialized. 1760 events processed\n",
      "[WyscoutEventSerializer] events serialized. 1893 events processed\n",
      "[WyscoutEventSerializer] events serialized. 1735 events processed\n",
      "[WyscoutEventSerializer] events serialized. 1917 events processed\n",
      "[WyscoutEventSerializer] events serialized. 1808 events processed\n",
      "[WyscoutEventSerializer] events serialized. 1871 events processed\n",
      "[WyscoutEventSerializer] events serialized. 1978 events processed\n",
      "[WyscoutEventSerializer] events serialized. 1716 events processed\n",
      "[WyscoutEventSerializer] events serialized. 1799 events processed\n",
      "[WyscoutEventSerializer] events serialized. 1967 events processed\n",
      "[WyscoutEventSerializer] events serialized. 1858 events processed\n",
      "[WyscoutEventSerializer] events serialized. 1954 events processed\n",
      "[WyscoutEventSerializer] events serialized. 1799 events processed\n",
      "[WyscoutEventSerializer] events serialized. 1814 events processed\n",
      "[WyscoutEventSerializer] events serialized. 1734 events processed\n",
      "[WyscoutEventSerializer] events serialized. 1855 events processed\n",
      "[WyscoutEventSerializer] events serialized. 2049 events processed\n",
      "[WyscoutEventSerializer] events serialized. 1878 events processed\n",
      "[WyscoutEventSerializer] events serialized. 1792 events processed\n",
      "[WyscoutEventSerializer] events serialized. 1970 events processed\n",
      "[WyscoutEventSerializer] events serialized. 1882 events processed\n",
      "[WyscoutEventSerializer] events serialized. 1918 events processed\n",
      "[WyscoutEventSerializer] events serialized. 1956 events processed\n",
      "[WyscoutEventSerializer] events serialized. 1982 events processed\n",
      "[WyscoutEventSerializer] events serialized. 1796 events processed\n",
      "[WyscoutEventSerializer] events serialized. 1850 events processed\n",
      "[WyscoutEventSerializer] events serialized. 1745 events processed\n",
      "[WyscoutEventSerializer] events serialized. 1892 events processed\n",
      "[WyscoutEventSerializer] events serialized. 1834 events processed\n",
      "[WyscoutEventSerializer] events serialized. 1827 events processed\n",
      "[WyscoutEventSerializer] events serialized. 2002 events processed\n",
      "[WyscoutEventSerializer] events serialized. 1935 events processed\n",
      "[WyscoutEventSerializer] events serialized. 1690 events processed\n",
      "[WyscoutEventSerializer] events serialized. 1714 events processed\n",
      "[WyscoutEventSerializer] events serialized. 1876 events processed\n",
      "[WyscoutEventSerializer] events serialized. 1911 events processed\n",
      "[WyscoutEventSerializer] events serialized. 1960 events processed\n",
      "[WyscoutEventSerializer] events serialized. 1881 events processed\n",
      "[WyscoutEventSerializer] events serialized. 1933 events processed\n",
      "[WyscoutEventSerializer] events serialized. 1791 events processed\n",
      "[WyscoutEventSerializer] events serialized. 1783 events processed\n",
      "[WyscoutEventSerializer] events serialized. 1803 events processed\n",
      "[WyscoutEventSerializer] events serialized. 1943 events processed\n",
      "[WyscoutEventSerializer] events serialized. 1765 events processed\n",
      "[WyscoutEventSerializer] events serialized. 1904 events processed\n",
      "[WyscoutEventSerializer] events serialized. 1880 events processed\n",
      "[WyscoutEventSerializer] events serialized. 1742 events processed\n",
      "[WyscoutEventSerializer] events serialized. 1871 events processed\n",
      "[WyscoutEventSerializer] events serialized. 1837 events processed\n",
      "[WyscoutEventSerializer] events serialized. 1942 events processed\n",
      "[WyscoutEventSerializer] events serialized. 1796 events processed\n",
      "[WyscoutEventSerializer] events serialized. 1685 events processed\n",
      "[WyscoutEventSerializer] events serialized. 1998 events processed\n",
      "[WyscoutEventSerializer] events serialized. 2134 events processed\n",
      "[WyscoutEventSerializer] events serialized. 2041 events processed\n",
      "[WyscoutEventSerializer] events serialized. 1736 events processed\n",
      "[WyscoutEventSerializer] events serialized. 1894 events processed\n",
      "[WyscoutEventSerializer] events serialized. 1983 events processed\n",
      "[WyscoutEventSerializer] events serialized. 1730 events processed\n",
      "[WyscoutEventSerializer] events serialized. 1816 events processed\n",
      "[WyscoutEventSerializer] events serialized. 1815 events processed\n",
      "[WyscoutEventSerializer] events serialized. 1976 events processed\n",
      "[WyscoutEventSerializer] events serialized. 1932 events processed\n",
      "[WyscoutEventSerializer] events serialized. 1713 events processed\n",
      "[WyscoutEventSerializer] events serialized. 1759 events processed\n",
      "[WyscoutEventSerializer] events serialized. 1552 events processed\n",
      "[WyscoutEventSerializer] events serialized. 2007 events processed\n",
      "[WyscoutEventSerializer] events serialized. 1856 events processed\n",
      "[WyscoutEventSerializer] events serialized. 1995 events processed\n",
      "[WyscoutEventSerializer] events serialized. 1897 events processed\n",
      "[WyscoutEventSerializer] events serialized. 1923 events processed\n",
      "[WyscoutEventSerializer] events serialized. 2096 events processed\n",
      "[WyscoutEventSerializer] events serialized. 1920 events processed\n",
      "[WyscoutEventSerializer] events serialized. 1865 events processed\n",
      "[WyscoutEventSerializer] events serialized. 1939 events processed\n",
      "[WyscoutEventSerializer] events serialized. 1919 events processed\n",
      "[WyscoutEventSerializer] events serialized. 1882 events processed\n",
      "[WyscoutEventSerializer] events serialized. 1824 events processed\n",
      "[WyscoutEventSerializer] events serialized. 1837 events processed\n",
      "[WyscoutEventSerializer] events serialized. 1875 events processed\n",
      "[WyscoutEventSerializer] events serialized. 2004 events processed\n",
      "[WyscoutEventSerializer] events serialized. 1950 events processed\n",
      "[WyscoutEventSerializer] events serialized. 1795 events processed\n",
      "[WyscoutEventSerializer] events serialized. 1708 events processed\n",
      "[WyscoutEventSerializer] events serialized. 1796 events processed\n",
      "[WyscoutEventSerializer] events serialized. 1941 events processed\n",
      "[WyscoutEventSerializer] events serialized. 1805 events processed\n",
      "[WyscoutEventSerializer] events serialized. 1801 events processed\n",
      "[WyscoutEventSerializer] events serialized. 1867 events processed\n",
      "[WyscoutEventSerializer] events serialized. 1963 events processed\n",
      "[WyscoutEventSerializer] events serialized. 1768 events processed\n",
      "[WyscoutEventSerializer] events serialized. 1816 events processed\n",
      "[WyscoutEventSerializer] events serialized. 1909 events processed\n",
      "[WyscoutEventSerializer] events serialized. 1839 events processed\n",
      "[WyscoutEventSerializer] events serialized. 1965 events processed\n",
      "[WyscoutEventSerializer] events serialized. 1825 events processed\n",
      "[WyscoutEventSerializer] events serialized. 1765 events processed\n",
      "[WyscoutEventSerializer] events serialized. 2071 events processed\n",
      "[WyscoutEventSerializer] events serialized. 1979 events processed\n",
      "[WyscoutEventSerializer] events serialized. 1982 events processed\n",
      "[WyscoutEventSerializer] events serialized. 1960 events processed\n",
      "[WyscoutEventSerializer] events serialized. 1672 events processed\n",
      "[WyscoutEventSerializer] events serialized. 2019 events processed\n"
     ]
    },
    {
     "name": "stdout",
     "output_type": "stream",
     "text": [
      "[WyscoutEventSerializer] events serialized. 1783 events processed\n",
      "[WyscoutEventSerializer] events serialized. 1815 events processed\n",
      "[WyscoutEventSerializer] events serialized. 1966 events processed\n",
      "[WyscoutEventSerializer] events serialized. 1895 events processed\n",
      "[WyscoutEventSerializer] events serialized. 1866 events processed\n",
      "[WyscoutEventSerializer] events serialized. 1879 events processed\n",
      "[WyscoutEventSerializer] events serialized. 1962 events processed\n",
      "[WyscoutEventSerializer] events serialized. 1843 events processed\n",
      "[WyscoutEventSerializer] events serialized. 2015 events processed\n",
      "[WyscoutEventSerializer] events serialized. 2037 events processed\n",
      "[WyscoutEventSerializer] events serialized. 1896 events processed\n",
      "[WyscoutEventSerializer] events serialized. 1849 events processed\n",
      "[WyscoutEventSerializer] events serialized. 1977 events processed\n",
      "[WyscoutEventSerializer] events serialized. 1752 events processed\n",
      "[WyscoutEventSerializer] events serialized. 1925 events processed\n",
      "[WyscoutEventSerializer] events serialized. 1896 events processed\n",
      "[WyscoutEventSerializer] events serialized. 1899 events processed\n",
      "[WyscoutEventSerializer] events serialized. 1984 events processed\n",
      "[WyscoutEventSerializer] events serialized. 1928 events processed\n",
      "[WyscoutEventSerializer] events serialized. 1973 events processed\n",
      "[WyscoutEventSerializer] events serialized. 1729 events processed\n",
      "[WyscoutEventSerializer] events serialized. 1942 events processed\n",
      "[WyscoutEventSerializer] events serialized. 1942 events processed\n",
      "[WyscoutEventSerializer] events serialized. 1836 events processed\n",
      "[WyscoutEventSerializer] events serialized. 1751 events processed\n",
      "[WyscoutEventSerializer] events serialized. 2002 events processed\n",
      "[WyscoutEventSerializer] events serialized. 1923 events processed\n",
      "[WyscoutEventSerializer] events serialized. 1846 events processed\n",
      "[WyscoutEventSerializer] events serialized. 1851 events processed\n",
      "[WyscoutEventSerializer] events serialized. 2200 events processed\n",
      "[WyscoutEventSerializer] events serialized. 1853 events processed\n",
      "[WyscoutEventSerializer] events serialized. 1689 events processed\n",
      "[WyscoutEventSerializer] events serialized. 1962 events processed\n",
      "[WyscoutEventSerializer] events serialized. 1937 events processed\n",
      "[WyscoutEventSerializer] events serialized. 1858 events processed\n",
      "[WyscoutEventSerializer] events serialized. 1954 events processed\n",
      "[WyscoutEventSerializer] events serialized. 2040 events processed\n",
      "[WyscoutEventSerializer] events serialized. 1901 events processed\n",
      "[WyscoutEventSerializer] events serialized. 1790 events processed\n",
      "[WyscoutEventSerializer] events serialized. 1823 events processed\n",
      "[WyscoutEventSerializer] events serialized. 1847 events processed\n",
      "[WyscoutEventSerializer] events serialized. 1806 events processed\n",
      "[WyscoutEventSerializer] events serialized. 2022 events processed\n",
      "[WyscoutEventSerializer] events serialized. 1818 events processed\n",
      "[WyscoutEventSerializer] events serialized. 1792 events processed\n",
      "[WyscoutEventSerializer] events serialized. 1797 events processed\n",
      "[WyscoutEventSerializer] events serialized. 1884 events processed\n",
      "[WyscoutEventSerializer] events serialized. 1942 events processed\n",
      "[WyscoutEventSerializer] events serialized. 1843 events processed\n",
      "[WyscoutEventSerializer] events serialized. 1962 events processed\n",
      "[WyscoutEventSerializer] events serialized. 1873 events processed\n",
      "[WyscoutEventSerializer] events serialized. 1810 events processed\n",
      "[WyscoutEventSerializer] events serialized. 1794 events processed\n",
      "[WyscoutEventSerializer] events serialized. 1974 events processed\n",
      "[WyscoutEventSerializer] events serialized. 1841 events processed\n",
      "[WyscoutEventSerializer] events serialized. 1789 events processed\n",
      "[WyscoutEventSerializer] events serialized. 2075 events processed\n",
      "[WyscoutEventSerializer] events serialized. 1940 events processed\n",
      "[WyscoutEventSerializer] events serialized. 1872 events processed\n",
      "[WyscoutEventSerializer] events serialized. 1939 events processed\n",
      "[WyscoutEventSerializer] events serialized. 1883 events processed\n",
      "[WyscoutEventSerializer] events serialized. 1816 events processed\n",
      "[WyscoutEventSerializer] events serialized. 1984 events processed\n",
      "[WyscoutEventSerializer] events serialized. 1878 events processed\n",
      "[WyscoutEventSerializer] events serialized. 1891 events processed\n",
      "[WyscoutEventSerializer] events serialized. 1898 events processed\n",
      "[WyscoutEventSerializer] events serialized. 1910 events processed\n",
      "[WyscoutEventSerializer] events serialized. 1879 events processed\n",
      "[WyscoutEventSerializer] events serialized. 1825 events processed\n",
      "[WyscoutEventSerializer] events serialized. 1735 events processed\n",
      "[WyscoutEventSerializer] events serialized. 1698 events processed\n",
      "[WyscoutEventSerializer] events serialized. 1928 events processed\n",
      "[WyscoutEventSerializer] events serialized. 1765 events processed\n",
      "[WyscoutEventSerializer] events serialized. 1747 events processed\n",
      "[WyscoutEventSerializer] events serialized. 1948 events processed\n",
      "[WyscoutEventSerializer] events serialized. 1935 events processed\n",
      "[WyscoutEventSerializer] events serialized. 1827 events processed\n",
      "[WyscoutEventSerializer] events serialized. 1911 events processed\n",
      "[WyscoutEventSerializer] events serialized. 1867 events processed\n",
      "[WyscoutEventSerializer] events serialized. 2041 events processed\n",
      "[WyscoutEventSerializer] events serialized. 1882 events processed\n",
      "[WyscoutEventSerializer] events serialized. 1876 events processed\n",
      "[WyscoutEventSerializer] events serialized. 1812 events processed\n",
      "[WyscoutEventSerializer] events serialized. 2144 events processed\n",
      "[WyscoutEventSerializer] events serialized. 1693 events processed\n",
      "[WyscoutEventSerializer] events serialized. 2062 events processed\n",
      "[WyscoutEventSerializer] events serialized. 1786 events processed\n",
      "[WyscoutEventSerializer] events serialized. 1730 events processed\n",
      "[WyscoutEventSerializer] events serialized. 1801 events processed\n",
      "[WyscoutEventSerializer] events serialized. 1736 events processed\n",
      "[WyscoutEventSerializer] events serialized. 1987 events processed\n",
      "[WyscoutEventSerializer] events serialized. 1772 events processed\n",
      "[WyscoutEventSerializer] events serialized. 1786 events processed\n",
      "[WyscoutEventSerializer] events serialized. 2025 events processed\n",
      "[WyscoutEventSerializer] events serialized. 1983 events processed\n",
      "[WyscoutEventSerializer] events serialized. 1902 events processed\n",
      "[WyscoutEventSerializer] events serialized. 2036 events processed\n",
      "[WyscoutEventSerializer] events serialized. 1894 events processed\n",
      "[WyscoutEventSerializer] events serialized. 2045 events processed\n",
      "[WyscoutEventSerializer] events serialized. 1886 events processed\n",
      "[WyscoutEventSerializer] events serialized. 1845 events processed\n",
      "[WyscoutEventSerializer] events serialized. 1833 events processed\n",
      "[WyscoutEventSerializer] events serialized. 1830 events processed\n",
      "[WyscoutEventSerializer] events serialized. 2005 events processed\n",
      "[WyscoutEventSerializer] events serialized. 1841 events processed\n",
      "[WyscoutEventSerializer] events serialized. 1878 events processed\n",
      "[WyscoutEventSerializer] events serialized. 1925 events processed\n",
      "[WyscoutEventSerializer] events serialized. 2009 events processed\n",
      "[WyscoutEventSerializer] events serialized. 1913 events processed\n",
      "[WyscoutEventSerializer] events serialized. 1885 events processed\n",
      "[WyscoutEventSerializer] events serialized. 2127 events processed\n",
      "[WyscoutEventSerializer] events serialized. 1818 events processed\n",
      "[WyscoutEventSerializer] events serialized. 1798 events processed\n",
      "[WyscoutEventSerializer] events serialized. 1922 events processed\n",
      "[WyscoutEventSerializer] events serialized. 1847 events processed\n",
      "[WyscoutEventSerializer] events serialized. 1891 events processed\n",
      "[WyscoutEventSerializer] events serialized. 1941 events processed\n",
      "[WyscoutEventSerializer] events serialized. 2044 events processed\n",
      "[WyscoutEventSerializer] events serialized. 1821 events processed\n",
      "[WyscoutEventSerializer] events serialized. 1792 events processed\n",
      "[WyscoutEventSerializer] events serialized. 1825 events processed\n",
      "[WyscoutEventSerializer] events serialized. 1909 events processed\n",
      "[WyscoutEventSerializer] events serialized. 1950 events processed\n",
      "[WyscoutEventSerializer] events serialized. 1891 events processed\n",
      "[WyscoutEventSerializer] events serialized. 1858 events processed\n"
     ]
    },
    {
     "name": "stdout",
     "output_type": "stream",
     "text": [
      "[WyscoutEventSerializer] events serialized. 1996 events processed\n",
      "[WyscoutEventSerializer] events serialized. 1964 events processed\n",
      "[WyscoutEventSerializer] events serialized. 2089 events processed\n",
      "[WyscoutEventSerializer] events serialized. 1922 events processed\n",
      "[WyscoutEventSerializer] events serialized. 2061 events processed\n",
      "[WyscoutEventSerializer] events serialized. 1986 events processed\n",
      "[WyscoutEventSerializer] events serialized. 1868 events processed\n",
      "[WyscoutEventSerializer] events serialized. 1897 events processed\n",
      "[WyscoutEventSerializer] events serialized. 1816 events processed\n",
      "[WyscoutEventSerializer] events serialized. 1798 events processed\n",
      "[WyscoutEventSerializer] events serialized. 1854 events processed\n",
      "[WyscoutEventSerializer] events serialized. 1912 events processed\n",
      "[WyscoutEventSerializer] events serialized. 1754 events processed\n",
      "[WyscoutEventSerializer] events serialized. 1884 events processed\n",
      "[WyscoutEventSerializer] events serialized. 1931 events processed\n",
      "[WyscoutEventSerializer] events serialized. 2014 events processed\n",
      "[WyscoutEventSerializer] events serialized. 1975 events processed\n",
      "[WyscoutEventSerializer] events serialized. 1796 events processed\n",
      "[WyscoutEventSerializer] events serialized. 2022 events processed\n",
      "[WyscoutEventSerializer] events serialized. 1961 events processed\n",
      "[WyscoutEventSerializer] events serialized. 1796 events processed\n",
      "[WyscoutEventSerializer] events serialized. 1949 events processed\n",
      "[WyscoutEventSerializer] events serialized. 1884 events processed\n",
      "[WyscoutEventSerializer] events serialized. 2119 events processed\n",
      "[WyscoutEventSerializer] events serialized. 1831 events processed\n",
      "[WyscoutEventSerializer] events serialized. 1686 events processed\n",
      "[WyscoutEventSerializer] events serialized. 1714 events processed\n",
      "[WyscoutEventSerializer] events serialized. 1922 events processed\n",
      "[WyscoutEventSerializer] events serialized. 1814 events processed\n",
      "[WyscoutEventSerializer] events serialized. 1944 events processed\n",
      "[WyscoutEventSerializer] events serialized. 1814 events processed\n",
      "[WyscoutEventSerializer] events serialized. 1805 events processed\n",
      "[WyscoutEventSerializer] events serialized. 1838 events processed\n",
      "[WyscoutEventSerializer] events serialized. 2078 events processed\n",
      "[WyscoutEventSerializer] events serialized. 1877 events processed\n",
      "[WyscoutEventSerializer] events serialized. 1815 events processed\n",
      "[WyscoutEventSerializer] events serialized. 2045 events processed\n",
      "[WyscoutEventSerializer] events serialized. 1891 events processed\n",
      "[WyscoutEventSerializer] events serialized. 1595 events processed\n",
      "[WyscoutEventSerializer] events serialized. 1996 events processed\n",
      "[WyscoutEventSerializer] events serialized. 1875 events processed\n",
      "[WyscoutEventSerializer] events serialized. 1878 events processed\n",
      "[WyscoutEventSerializer] events serialized. 1959 events processed\n",
      "[WyscoutEventSerializer] events serialized. 1959 events processed\n",
      "[WyscoutEventSerializer] events serialized. 1817 events processed\n",
      "[WyscoutEventSerializer] events serialized. 1651 events processed\n",
      "[WyscoutEventSerializer] events serialized. 1796 events processed\n",
      "[WyscoutEventSerializer] events serialized. 1935 events processed\n",
      "[WyscoutEventSerializer] events serialized. 1883 events processed\n",
      "[WyscoutEventSerializer] events serialized. 1686 events processed\n",
      "[WyscoutEventSerializer] events serialized. 1791 events processed\n",
      "[WyscoutEventSerializer] events serialized. 1926 events processed\n",
      "[WyscoutEventSerializer] events serialized. 1930 events processed\n",
      "[WyscoutEventSerializer] events serialized. 1863 events processed\n",
      "[WyscoutEventSerializer] events serialized. 1812 events processed\n",
      "[WyscoutEventSerializer] events serialized. 1728 events processed\n",
      "[WyscoutEventSerializer] events serialized. 1946 events processed\n",
      "[WyscoutEventSerializer] events serialized. 1900 events processed\n",
      "[WyscoutEventSerializer] events serialized. 1955 events processed\n",
      "[WyscoutEventSerializer] events serialized. 1967 events processed\n",
      "[WyscoutEventSerializer] events serialized. 1753 events processed\n",
      "[WyscoutEventSerializer] events serialized. 2151 events processed\n",
      "[WyscoutEventSerializer] events serialized. 2006 events processed\n",
      "[WyscoutEventSerializer] events serialized. 1784 events processed\n",
      "[WyscoutEventSerializer] events serialized. 1888 events processed\n",
      "[WyscoutEventSerializer] events serialized. 1917 events processed\n",
      "[WyscoutEventSerializer] events serialized. 1917 events processed\n",
      "[WyscoutEventSerializer] events serialized. 1818 events processed\n",
      "[WyscoutEventSerializer] events serialized. 1869 events processed\n",
      "[WyscoutEventSerializer] events serialized. 1887 events processed\n",
      "[WyscoutEventSerializer] events serialized. 1699 events processed\n",
      "[WyscoutEventSerializer] events serialized. 1730 events processed\n",
      "[WyscoutEventSerializer] events serialized. 1795 events processed\n",
      "[WyscoutEventSerializer] events serialized. 1974 events processed\n",
      "[WyscoutEventSerializer] events serialized. 1730 events processed\n",
      "[WyscoutEventSerializer] events serialized. 1852 events processed\n",
      "[WyscoutEventSerializer] events serialized. 2013 events processed\n",
      "[WyscoutEventSerializer] events serialized. 1875 events processed\n",
      "[WyscoutEventSerializer] events serialized. 1878 events processed\n",
      "[WyscoutEventSerializer] events serialized. 1816 events processed\n",
      "[WyscoutEventSerializer] events serialized. 1876 events processed\n",
      "[WyscoutEventSerializer] events serialized. 1821 events processed\n",
      "[WyscoutEventSerializer] events serialized. 1891 events processed\n",
      "[WyscoutEventSerializer] events serialized. 1940 events processed\n",
      "[WyscoutEventSerializer] events serialized. 1882 events processed\n",
      "[WyscoutEventSerializer] events serialized. 1772 events processed\n",
      "[WyscoutEventSerializer] events serialized. 1813 events processed\n",
      "[WyscoutEventSerializer] events serialized. 1860 events processed\n",
      "[WyscoutEventSerializer] events serialized. 1940 events processed\n",
      "[WyscoutEventSerializer] events serialized. 1736 events processed\n",
      "[WyscoutEventSerializer] events serialized. 1958 events processed\n",
      "[WyscoutEventSerializer] events serialized. 1777 events processed\n",
      "[WyscoutEventSerializer] events serialized. 1889 events processed\n",
      "[WyscoutEventSerializer] events serialized. 1774 events processed\n",
      "[WyscoutEventSerializer] events serialized. 1896 events processed\n",
      "[WyscoutEventSerializer] events serialized. 1834 events processed\n",
      "[WyscoutEventSerializer] events serialized. 1851 events processed\n",
      "[WyscoutEventSerializer] events serialized. 1772 events processed\n",
      "[WyscoutEventSerializer] events serialized. 2001 events processed\n",
      "[WyscoutEventSerializer] events serialized. 1584 events processed\n",
      "[WyscoutEventSerializer] events serialized. 1860 events processed\n",
      "[WyscoutEventSerializer] events serialized. 1860 events processed\n",
      "[WyscoutEventSerializer] events serialized. 1756 events processed\n",
      "[WyscoutEventSerializer] events serialized. 1836 events processed\n",
      "[WyscoutEventSerializer] events serialized. 1650 events processed\n",
      "[WyscoutEventSerializer] events serialized. 1971 events processed\n",
      "[WyscoutEventSerializer] events serialized. 1761 events processed\n",
      "[WyscoutEventSerializer] events serialized. 1999 events processed\n",
      "[WyscoutEventSerializer] events serialized. 1963 events processed\n",
      "[WyscoutEventSerializer] events serialized. 1935 events processed\n",
      "[WyscoutEventSerializer] events serialized. 1839 events processed\n",
      "[WyscoutEventSerializer] events serialized. 1820 events processed\n",
      "[WyscoutEventSerializer] events serialized. 1840 events processed\n",
      "[WyscoutEventSerializer] events serialized. 1799 events processed\n",
      "[WyscoutEventSerializer] events serialized. 2036 events processed\n",
      "[WyscoutEventSerializer] events serialized. 2065 events processed\n",
      "[WyscoutEventSerializer] events serialized. 1699 events processed\n",
      "[WyscoutEventSerializer] events serialized. 1682 events processed\n",
      "[WyscoutEventSerializer] events serialized. 1844 events processed\n",
      "[WyscoutEventSerializer] events serialized. 1865 events processed\n",
      "[WyscoutEventSerializer] events serialized. 1811 events processed\n",
      "[WyscoutEventSerializer] events serialized. 2217 events processed\n",
      "[WyscoutEventSerializer] events serialized. 1819 events processed\n",
      "[WyscoutEventSerializer] events serialized. 1739 events processed\n",
      "[WyscoutEventSerializer] events serialized. 1768 events processed\n",
      "[WyscoutEventSerializer] events serialized. 1848 events processed\n",
      "[WyscoutEventSerializer] events serialized. 1744 events processed\n"
     ]
    },
    {
     "name": "stdout",
     "output_type": "stream",
     "text": [
      "[WyscoutEventSerializer] events serialized. 1830 events processed\n"
     ]
    }
   ],
   "source": [
    "serialized_events = {}\n",
    "for id,events in match_id2events.items():\n",
    "    serialized_events[id] = event_serializer.serialize(events)"
   ]
  },
  {
   "cell_type": "markdown",
   "metadata": {},
   "source": [
    "### 5.A. Frequency of label per type"
   ]
  },
  {
   "cell_type": "markdown",
   "metadata": {},
   "source": [
    "For each label we plot how frequent it is in the serialized data set."
   ]
  },
  {
   "cell_type": "code",
   "execution_count": 11,
   "metadata": {},
   "outputs": [
    {
     "data": {
      "image/png": "[encoded data removed]",
      "text/plain": [
       "<Figure size 576x432 with 1 Axes>"
      ]
     },
     "metadata": {
      "needs_background": "light"
     },
     "output_type": "display_data"
    }
   ],
   "source": [
    "events_list = []\n",
    "for match_id, events in serialized_events.items():\n",
    "    for event in events:\n",
    "        events_list.append(event.label.split(\"-\")[0])\n",
    "\n",
    "count = Counter(events_list)\n",
    "counter = {}\n",
    "for i, n_events in zip(count.keys(), count.values()):\n",
    "    counter[i] = int(float(n_events)/len(events_list)*100)\n",
    "sorted_d = np.array(sorted(counter.items(), key=operator.itemgetter(1), reverse=False))\n",
    "\n",
    "fig, ax = plt.subplots(figsize=(8,6))\n",
    "plt.barh(list(sorted_d[:,0]),[int(x) for x in list(sorted_d[:,1])])\n",
    "plt.xticks(rotation=90);plt.xticks(fontsize=18)\n",
    "plt.xlabel('events (%)', fontsize=25)\n",
    "plt.yticks(fontsize=18)\n",
    "plt.grid(alpha=0.3)\n",
    "fig.tight_layout()\n",
    "plt.show()"
   ]
  },
  {
   "cell_type": "markdown",
   "metadata": {},
   "source": [
    "### 5.B. Distribution of the number of events per match"
   ]
  },
  {
   "cell_type": "markdown",
   "metadata": {},
   "source": [
    "We can compute the number of events in each match. We the plot the distribution of this quantity."
   ]
  },
  {
   "cell_type": "code",
   "execution_count": 12,
   "metadata": {},
   "outputs": [
    {
     "data": {
      "image/png": "[encoded data removed]",
      "text/plain": [
       "<Figure size 576x432 with 1 Axes>"
      ]
     },
     "metadata": {
      "needs_background": "light"
     },
     "output_type": "display_data"
    }
   ],
   "source": [
    "values = [len(events) for events in serialized_events.values()]\n",
    "avg_n_events = np.mean(values)\n",
    "std_n_events = np.std(values)\n",
    "\n",
    "fig, ax = plt.subplots(figsize=(8,6))\n",
    "plt.hist(values, rwidth=0.9, bins=20)\n",
    "plt.grid(alpha=0.3)\n",
    "plt.yticks(fontsize=18)\n",
    "plt.xlabel('events (n)', fontsize=25)\n",
    "plt.ylabel('frequency (n)', fontsize=25)\n",
    "plt.xticks(fontsize=18)\n",
    "plt.text(0.1, 0.7,\n",
    "        '$\\mu$ = %i\\n$\\sigma$ = %i'%(avg_n_events, std_n_events),\n",
    "        fontsize=25, transform=ax.transAxes)\n",
    "fig.tight_layout()\n",
    "plt.show()"
   ]
  },
  {
   "cell_type": "markdown",
   "metadata": {},
   "source": [
    "## 6. Plot events on the field"
   ]
  },
  {
   "cell_type": "markdown",
   "metadata": {},
   "source": [
    "It is possible to create a *pandas DataFrame* with the standardized event's attributes. Let's take an Italian Serie A match and create a *DataFrame* for its events."
   ]
  },
  {
   "cell_type": "code",
   "execution_count": 13,
   "metadata": {},
   "outputs": [
    {
     "data": {
      "text/html": [
       "<div>\n",
       "<style scoped>\n",
       "    .dataframe tbody tr th:only-of-type {\n",
       "        vertical-align: middle;\n",
       "    }\n",
       "\n",
       "    .dataframe tbody tr th {\n",
       "        vertical-align: top;\n",
       "    }\n",
       "\n",
       "    .dataframe thead th {\n",
       "        text-align: right;\n",
       "    }\n",
       "</style>\n",
       "<table border=\"1\" class=\"dataframe\">\n",
       "  <thead>\n",
       "    <tr style=\"text-align: right;\">\n",
       "      <th></th>\n",
       "      <th>event_id</th>\n",
       "      <th>team_id</th>\n",
       "      <th>player_id</th>\n",
       "      <th>match_id</th>\n",
       "      <th>period</th>\n",
       "      <th>timestamp</th>\n",
       "      <th>start_position</th>\n",
       "      <th>end_position</th>\n",
       "      <th>outcome</th>\n",
       "      <th>label</th>\n",
       "      <th>...</th>\n",
       "      <th>challenged_player</th>\n",
       "      <th>is_shot</th>\n",
       "      <th>goal_position</th>\n",
       "      <th>is_goal</th>\n",
       "      <th>is_pass</th>\n",
       "      <th>receiver_player_id</th>\n",
       "      <th>is_assist</th>\n",
       "      <th>is_keypass</th>\n",
       "      <th>is_foul</th>\n",
       "      <th>card</th>\n",
       "    </tr>\n",
       "  </thead>\n",
       "  <tbody>\n",
       "    <tr>\n",
       "      <th>0</th>\n",
       "      <td>253668302</td>\n",
       "      <td>3161</td>\n",
       "      <td>3344</td>\n",
       "      <td>2576335</td>\n",
       "      <td>1H</td>\n",
       "      <td>2.417590</td>\n",
       "      <td>Point(x=49, y=50)</td>\n",
       "      <td>Point(x=38, y=58)</td>\n",
       "      <td>success</td>\n",
       "      <td>Pass-Simple pass-success</td>\n",
       "      <td>...</td>\n",
       "      <td>NaN</td>\n",
       "      <td>False</td>\n",
       "      <td>None</td>\n",
       "      <td>False</td>\n",
       "      <td>True</td>\n",
       "      <td>116349.0</td>\n",
       "      <td>False</td>\n",
       "      <td>False</td>\n",
       "      <td>NaN</td>\n",
       "      <td>NaN</td>\n",
       "    </tr>\n",
       "    <tr>\n",
       "      <th>1</th>\n",
       "      <td>253668303</td>\n",
       "      <td>3161</td>\n",
       "      <td>116349</td>\n",
       "      <td>2576335</td>\n",
       "      <td>1H</td>\n",
       "      <td>3.904412</td>\n",
       "      <td>Point(x=38, y=58)</td>\n",
       "      <td>Point(x=37, y=91)</td>\n",
       "      <td>success</td>\n",
       "      <td>Pass-Simple pass-success</td>\n",
       "      <td>...</td>\n",
       "      <td>NaN</td>\n",
       "      <td>False</td>\n",
       "      <td>None</td>\n",
       "      <td>False</td>\n",
       "      <td>True</td>\n",
       "      <td>135903.0</td>\n",
       "      <td>False</td>\n",
       "      <td>False</td>\n",
       "      <td>NaN</td>\n",
       "      <td>NaN</td>\n",
       "    </tr>\n",
       "    <tr>\n",
       "      <th>2</th>\n",
       "      <td>253668304</td>\n",
       "      <td>3161</td>\n",
       "      <td>135903</td>\n",
       "      <td>2576335</td>\n",
       "      <td>1H</td>\n",
       "      <td>6.484211</td>\n",
       "      <td>Point(x=37, y=91)</td>\n",
       "      <td>Point(x=34, y=72)</td>\n",
       "      <td>success</td>\n",
       "      <td>Pass-Simple pass-success</td>\n",
       "      <td>...</td>\n",
       "      <td>NaN</td>\n",
       "      <td>False</td>\n",
       "      <td>None</td>\n",
       "      <td>False</td>\n",
       "      <td>True</td>\n",
       "      <td>138408.0</td>\n",
       "      <td>False</td>\n",
       "      <td>False</td>\n",
       "      <td>NaN</td>\n",
       "      <td>NaN</td>\n",
       "    </tr>\n",
       "    <tr>\n",
       "      <th>3</th>\n",
       "      <td>253668306</td>\n",
       "      <td>3161</td>\n",
       "      <td>138408</td>\n",
       "      <td>2576335</td>\n",
       "      <td>1H</td>\n",
       "      <td>10.043835</td>\n",
       "      <td>Point(x=34, y=72)</td>\n",
       "      <td>Point(x=36, y=14)</td>\n",
       "      <td>success</td>\n",
       "      <td>Pass-Simple pass-success</td>\n",
       "      <td>...</td>\n",
       "      <td>NaN</td>\n",
       "      <td>False</td>\n",
       "      <td>None</td>\n",
       "      <td>False</td>\n",
       "      <td>True</td>\n",
       "      <td>21094.0</td>\n",
       "      <td>False</td>\n",
       "      <td>False</td>\n",
       "      <td>NaN</td>\n",
       "      <td>NaN</td>\n",
       "    </tr>\n",
       "    <tr>\n",
       "      <th>4</th>\n",
       "      <td>253668308</td>\n",
       "      <td>3161</td>\n",
       "      <td>21094</td>\n",
       "      <td>2576335</td>\n",
       "      <td>1H</td>\n",
       "      <td>14.032070</td>\n",
       "      <td>Point(x=36, y=14)</td>\n",
       "      <td>Point(x=30, y=39)</td>\n",
       "      <td>success</td>\n",
       "      <td>Pass-Simple pass-success</td>\n",
       "      <td>...</td>\n",
       "      <td>NaN</td>\n",
       "      <td>False</td>\n",
       "      <td>None</td>\n",
       "      <td>False</td>\n",
       "      <td>True</td>\n",
       "      <td>3431.0</td>\n",
       "      <td>False</td>\n",
       "      <td>False</td>\n",
       "      <td>NaN</td>\n",
       "      <td>NaN</td>\n",
       "    </tr>\n",
       "  </tbody>\n",
       "</table>\n",
       "<p>5 rows × 25 columns</p>\n",
       "</div>"
      ],
      "text/plain": [
       "    event_id  team_id  player_id  match_id period  timestamp  \\\n",
       "0  253668302     3161       3344   2576335     1H   2.417590   \n",
       "1  253668303     3161     116349   2576335     1H   3.904412   \n",
       "2  253668304     3161     135903   2576335     1H   6.484211   \n",
       "3  253668306     3161     138408   2576335     1H  10.043835   \n",
       "4  253668308     3161      21094   2576335     1H  14.032070   \n",
       "\n",
       "      start_position       end_position  outcome                     label  \\\n",
       "0  Point(x=49, y=50)  Point(x=38, y=58)  success  Pass-Simple pass-success   \n",
       "1  Point(x=38, y=58)  Point(x=37, y=91)  success  Pass-Simple pass-success   \n",
       "2  Point(x=37, y=91)  Point(x=34, y=72)  success  Pass-Simple pass-success   \n",
       "3  Point(x=34, y=72)  Point(x=36, y=14)  success  Pass-Simple pass-success   \n",
       "4  Point(x=36, y=14)  Point(x=30, y=39)  success  Pass-Simple pass-success   \n",
       "\n",
       "   ... challenged_player  is_shot goal_position  is_goal  is_pass  \\\n",
       "0  ...               NaN    False          None    False     True   \n",
       "1  ...               NaN    False          None    False     True   \n",
       "2  ...               NaN    False          None    False     True   \n",
       "3  ...               NaN    False          None    False     True   \n",
       "4  ...               NaN    False          None    False     True   \n",
       "\n",
       "   receiver_player_id is_assist is_keypass is_foul card  \n",
       "0            116349.0     False      False     NaN  NaN  \n",
       "1            135903.0     False      False     NaN  NaN  \n",
       "2            138408.0     False      False     NaN  NaN  \n",
       "3             21094.0     False      False     NaN  NaN  \n",
       "4              3431.0     False      False     NaN  NaN  \n",
       "\n",
       "[5 rows x 25 columns]"
      ]
     },
     "execution_count": 13,
     "metadata": {},
     "output_type": "execute_result"
    }
   ],
   "source": [
    "match_id = 2576335\n",
    "match_events = []\n",
    "for event in serialized_events[match_id]:\n",
    "    match_events.append(event.to_dict())\n",
    "\n",
    "match_df = pd.DataFrame(match_events)\n",
    "match_df.head()"
   ]
  },
  {
   "cell_type": "markdown",
   "metadata": {},
   "source": [
    "Then we can plot them on a pitch."
   ]
  },
  {
   "cell_type": "code",
   "execution_count": 14,
   "metadata": {},
   "outputs": [
    {
     "data": {
      "image/png": "[encoded data removed]",
      "text/plain": [
       "<Figure size 432x288 with 1 Axes>"
      ]
     },
     "metadata": {
      "needs_background": "light"
     },
     "output_type": "display_data"
    }
   ],
   "source": [
    "(fig,ax) = createPitch(120,80,'yards','gray')\n",
    "for i,event in match_df.iterrows():\n",
    "    if (event['team_id']==3161):\n",
    "        x=((event['start_position'].x)*120)/100\n",
    "        y=((event['start_position'].y)*80)/100\n",
    "        shotCircle=plt.Circle((x,y),1,color='red')\n",
    "    elif (event['team_id']==3162):\n",
    "        x=((100-event['start_position'].x)*120)/100\n",
    "        y=((100-event['start_position'].y)*80)/100\n",
    "        shotCircle=plt.Circle((x,y),1,color='blue')\n",
    "    ax.add_patch(shotCircle)\n",
    "\n",
    "plt.show()"
   ]
  },
  {
   "cell_type": "markdown",
   "metadata": {},
   "source": [
    "If we want to visualize all the shot that the players took during the match, it is possible to select them from the *DataFrame* and plot them as well. To add something interesting we also highlight the goals."
   ]
  },
  {
   "cell_type": "code",
   "execution_count": 15,
   "metadata": {},
   "outputs": [
    {
     "data": {
      "image/png": "[encoded data removed]",
      "text/plain": [
       "<Figure size 432x288 with 1 Axes>"
      ]
     },
     "metadata": {
      "needs_background": "light"
     },
     "output_type": "display_data"
    }
   ],
   "source": [
    "(fig,ax) = createPitch(120,80,'yards','gray')\n",
    "\n",
    "for event in serialized_events[match_id]:\n",
    "    try:\n",
    "        if event.is_shot:\n",
    "            if event.team_id == 3161:\n",
    "                point = event.get_position(120,80,'R')\n",
    "                shotCircle = plt.Circle((point.x,point.y),2,color='red')\n",
    "            elif event.team_id == 3162:\n",
    "                point = event.get_position(120,80,'L')\n",
    "                shotCircle = plt.Circle((point.x,point.y),2,color='blue')\n",
    "            if not event.is_goal:\n",
    "                shotCircle.set_alpha(.2)\n",
    "            ax.add_patch(shotCircle)\n",
    "    except AttributeError:\n",
    "        pass\n",
    "\n",
    "plt.show()\n",
    "        "
   ]
  },
  {
   "cell_type": "markdown",
   "metadata": {},
   "source": [
    "The chosen match is Lazio-Internazionale 3-2. Our plot is not incorrect, it shows four goals beacuse during the match Ivan Perisic scored an own goal. It is interesting to see the shot taken during a penalty that took to a goal."
   ]
  },
  {
   "cell_type": "code",
   "execution_count": 31,
   "metadata": {},
   "outputs": [
    {
     "data": {
      "image/png": "[encoded data removed]",
      "text/plain": [
       "<Figure size 576x432 with 1 Axes>"
      ]
     },
     "metadata": {
      "needs_background": "light"
     },
     "output_type": "display_data"
    }
   ],
   "source": [
    "match_accurate = []\n",
    "match_passes = []\n",
    "for a_match in list(matches.keys()):\n",
    "    accurate = 0\n",
    "    passes = 0\n",
    "    if '3161' in [matches[a_match].home_team.team_id, matches[a_match].away_team.team_id]:\n",
    "        for event in serialized_events[a_match]:\n",
    "            if event.team_id == 3161 and event.label.split(\"-\")[0] == 'Pass':\n",
    "                passes += 1\n",
    "                if event.outcome == 'success':\n",
    "                    accurate += 1\n",
    "        match_passes.append(passes)\n",
    "        match_accurate.append(accurate)\n",
    "\n",
    "accurate_percentage = []\n",
    "\n",
    "for accurate,passes in zip(match_accurate, match_passes):\n",
    "    percentage = (accurate*100)/passes\n",
    "    accurate_percentage.append(int(percentage))\n",
    "\n",
    "count = Counter(accurate_percentage)\n",
    "counter = {}\n",
    "for i, n_percentages in zip(count.keys(), count.values()):\n",
    "    counter[i] = int(float(n_percentages)/len(accurate_percentage)*100)\n",
    "sorted_d = np.array(sorted(counter.items(), key=operator.itemgetter(1), reverse=False))\n",
    "\n",
    "fig, ax = plt.subplots(figsize=(8,6))\n",
    "plt.barh(list(sorted_d[:,0]),[int(x) for x in list(sorted_d[:,1])])\n",
    "plt.xticks(rotation=90);plt.xticks(fontsize=18)\n",
    "plt.xlabel('matches with that percentage (%)', fontsize=25)\n",
    "plt.ylabel('accurate passes in a match (%)', fontsize=25)\n",
    "plt.yticks(fontsize=18)\n",
    "plt.grid(alpha=0.3)\n",
    "fig.tight_layout()\n",
    "plt.show()"
   ]
  },
  {
   "cell_type": "code",
   "execution_count": 33,
   "metadata": {},
   "outputs": [
    {
     "data": {
      "image/png": "[encoded data removed]",
      "text/plain": [
       "<Figure size 576x432 with 1 Axes>"
      ]
     },
     "metadata": {
      "needs_background": "light"
     },
     "output_type": "display_data"
    }
   ],
   "source": [
    "match_accurate_shots = []\n",
    "match_shots = []\n",
    "for a_match in list(matches.keys()):\n",
    "    accurate = 0\n",
    "    shots = 0\n",
    "    if '3161' in [matches[a_match].home_team.team_id, matches[a_match].away_team.team_id]:\n",
    "        for event in serialized_events[a_match]:\n",
    "            if event.team_id == 3161 and event.label.split(\"-\")[0] == 'Shot':\n",
    "                shots += 1\n",
    "                if event.outcome == 'success':\n",
    "                    accurate += 1\n",
    "        match_shots.append(shots)\n",
    "        match_accurate_shots.append(accurate)\n",
    "\n",
    "accurate_percentage = []\n",
    "\n",
    "for accurate,shots in zip(match_accurate_shots, match_shots):\n",
    "    percentage = (accurate*100)/shots\n",
    "    accurate_percentage.append(int(percentage))\n",
    "    \n",
    "count = Counter(accurate_percentage)\n",
    "counter = {}\n",
    "for i, n_percentages in zip(count.keys(), count.values()):\n",
    "    counter[i] = int(float(n_percentages)/len(accurate_percentage)*100)\n",
    "sorted_d = np.array(sorted(counter.items(), key=operator.itemgetter(1), reverse=False))\n",
    "\n",
    "fig, ax = plt.subplots(figsize=(8,6))\n",
    "plt.barh(list(sorted_d[:,0]),[int(x) for x in list(sorted_d[:,1])])\n",
    "plt.xticks(rotation=90);plt.xticks(fontsize=18)\n",
    "plt.xlabel('matches with that percentage (%)', fontsize=25)\n",
    "plt.ylabel('accurate shots in a match (%)', fontsize=25)\n",
    "plt.yticks(fontsize=18)\n",
    "plt.grid(alpha=0.3)\n",
    "fig.tight_layout()\n",
    "plt.show()"
   ]
  }
 ],
 "metadata": {
  "kernelspec": {
   "display_name": "Python 3",
   "language": "python",
   "name": "python3"
  },
  "language_info": {
   "codemirror_mode": {
    "name": "ipython",
    "version": 3
   },
   "file_extension": ".py",
   "mimetype": "text/x-python",
   "name": "python",
   "nbconvert_exporter": "python",
   "pygments_lexer": "ipython3",
   "version": "3.6.10"
  }
 },
 "nbformat": 4,
 "nbformat_minor": 4
}
