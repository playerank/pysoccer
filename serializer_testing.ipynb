{
 "cells": [
  {
   "cell_type": "markdown",
   "metadata": {},
   "source": [
    "# Pysoccer library"
   ]
  },
  {
   "cell_type": "markdown",
   "metadata": {},
   "source": [
    "## 1. Import libraries"
   ]
  },
  {
   "cell_type": "code",
   "execution_count": null,
   "metadata": {},
   "outputs": [],
   "source": [
    "from pysoccer.attributes import *\n",
    "from pysoccer.event import *\n",
    "from pysoccer.serializers.WyscoutSerializer.eventSerializer import *\n",
    "from pysoccer.serializers.WyscoutSerializer.matchSerializer import *\n",
    "import json\n",
    "from collections import defaultdict\n",
    "from collections import Counter\n",
    "import numpy as np\n",
    "import operator\n",
    "import matplotlib.pyplot as plt \n",
    "import pandas as pd\n",
    "from pysoccer.visualization import createPitch"
   ]
  },
  {
   "cell_type": "markdown",
   "metadata": {},
   "source": [
    "## 2. Load public dataset"
   ]
  },
  {
   "cell_type": "markdown",
   "metadata": {},
   "source": [
    "We import the *matches* and *event* data sets from the data folder we stored them before."
   ]
  },
  {
   "cell_type": "code",
   "execution_count": null,
   "metadata": {},
   "outputs": [],
   "source": [
    "matches, events = {}, {}\n",
    "with open('./data/events/events_%s.json' %'Italy') as json_data:\n",
    "    events = json.load(json_data)\n",
    "with open('./data/matches/matches_%s.json' %'Italy') as json_data:\n",
    "    matches = json.load(json_data)"
   ]
  },
  {
   "cell_type": "markdown",
   "metadata": {},
   "source": [
    "We now create two dictionaries containing *matches* and *event*. We use respectively the *wyId* and the *matchID* as keys for the values."
   ]
  },
  {
   "cell_type": "code",
   "execution_count": null,
   "metadata": {},
   "outputs": [],
   "source": [
    "match_id2events = defaultdict(list)\n",
    "match_id2match = defaultdict(dict)\n",
    "for event in events:\n",
    "    match_id = event['matchId']\n",
    "    match_id2events[match_id].append(event)                                     \n",
    "for match in matches:\n",
    "    match_id = match['wyId']\n",
    "    match_id2match[match_id] = match"
   ]
  },
  {
   "cell_type": "markdown",
   "metadata": {},
   "source": [
    "## 3. Structure of data"
   ]
  },
  {
   "cell_type": "markdown",
   "metadata": {},
   "source": [
    "### 3.A. Matches"
   ]
  },
  {
   "cell_type": "code",
   "execution_count": null,
   "metadata": {},
   "outputs": [],
   "source": [
    "a_match = list(match_id2match.keys())[0]\n",
    "match_id2match[a_match]"
   ]
  },
  {
   "cell_type": "markdown",
   "metadata": {},
   "source": [
    "### 3.B. Events"
   ]
  },
  {
   "cell_type": "code",
   "execution_count": null,
   "metadata": {},
   "outputs": [],
   "source": [
    "match_id2events[a_match][0]"
   ]
  },
  {
   "cell_type": "markdown",
   "metadata": {},
   "source": [
    "## 4. Serializing"
   ]
  },
  {
   "cell_type": "markdown",
   "metadata": {},
   "source": [
    "### 4.A. Serializing Events"
   ]
  },
  {
   "cell_type": "markdown",
   "metadata": {},
   "source": [
    "We then create a new object *WyscoutSerializer* that will do the serialization for us. We can call the *serialize* function that needs a list of Wyscout events as input and will return a list of standardized events."
   ]
  },
  {
   "cell_type": "code",
   "execution_count": null,
   "metadata": {},
   "outputs": [],
   "source": [
    "event_serializer = WyscoutEventSerializer()\n",
    "events = event_serializer.serialize(match_id2events[a_match])"
   ]
  },
  {
   "cell_type": "markdown",
   "metadata": {},
   "source": [
    "In *events* now we will find our list of standardized events. Below you can see how a standardized event looks."
   ]
  },
  {
   "cell_type": "code",
   "execution_count": null,
   "metadata": {},
   "outputs": [],
   "source": [
    "events[0]"
   ]
  },
  {
   "cell_type": "markdown",
   "metadata": {},
   "source": [
    "We see that it is a *PossessionEvent*, precisely a pass. It was accurate and the ball passed from the player with id 3344 to the player with id 116349."
   ]
  },
  {
   "cell_type": "markdown",
   "metadata": {},
   "source": [
    "### 3.B. Serializing Matches"
   ]
  },
  {
   "cell_type": "markdown",
   "metadata": {},
   "source": [
    "In the same way we did for events we can create a new object *WyscoutMatchSerializer* that will serializer our matches. We call the *serialize* function that needs a dict containing Wyscout matches as values and Wyscout match_ids as keys as input. Then the function will return a dictionary containing serialized matches as values and the same keys."
   ]
  },
  {
   "cell_type": "code",
   "execution_count": null,
   "metadata": {},
   "outputs": [],
   "source": [
    "match_serializer = WyscoutMatchSerializer()\n",
    "matches = match_serializer.serialize(match_id2match)"
   ]
  },
  {
   "cell_type": "markdown",
   "metadata": {},
   "source": [
    "We can see that the *matches*'s value for the *a_match* key is a standardized match that looks as follow."
   ]
  },
  {
   "cell_type": "code",
   "execution_count": null,
   "metadata": {},
   "outputs": [],
   "source": [
    "matches[a_match]"
   ]
  },
  {
   "cell_type": "markdown",
   "metadata": {},
   "source": [
    "It's the *Lazio - Internazionale* match, played in the last round of the 2018 Serie A."
   ]
  },
  {
   "cell_type": "markdown",
   "metadata": {},
   "source": [
    "## 5. Basic statistics"
   ]
  },
  {
   "cell_type": "markdown",
   "metadata": {},
   "source": [
    "We can try to serialize all the events in the data set."
   ]
  },
  {
   "cell_type": "code",
   "execution_count": null,
   "metadata": {},
   "outputs": [],
   "source": [
    "serialized_events = {}\n",
    "for id,events in match_id2events.items():\n",
    "    serialized_events[id] = event_serializer.serialize(events)"
   ]
  },
  {
   "cell_type": "markdown",
   "metadata": {},
   "source": [
    "### 5.A. Frequency of label per type"
   ]
  },
  {
   "cell_type": "markdown",
   "metadata": {},
   "source": [
    "For each label we plot how frequent it is in the serialized data set."
   ]
  },
  {
   "cell_type": "code",
   "execution_count": null,
   "metadata": {},
   "outputs": [],
   "source": [
    "events_list = []\n",
    "for match_id, events in serialized_events.items():\n",
    "    for event in events:\n",
    "        events_list.append(event.label.split(\"-\")[0])\n",
    "\n",
    "count = Counter(events_list)\n",
    "counter = {}\n",
    "for i, n_events in zip(count.keys(), count.values()):\n",
    "    counter[i] = int(float(n_events)/len(events_list)*100)\n",
    "sorted_d = np.array(sorted(counter.items(), key=operator.itemgetter(1), reverse=False))\n",
    "\n",
    "fig, ax = plt.subplots(figsize=(8,6))\n",
    "plt.barh(list(sorted_d[:,0]),[int(x) for x in list(sorted_d[:,1])])\n",
    "plt.xticks(rotation=90);plt.xticks(fontsize=18)\n",
    "plt.xlabel('events (%)', fontsize=25)\n",
    "plt.yticks(fontsize=18)\n",
    "plt.grid(alpha=0.3)\n",
    "fig.tight_layout()\n",
    "plt.show()"
   ]
  },
  {
   "cell_type": "markdown",
   "metadata": {},
   "source": [
    "### 5.B. Distribution of the number of events per match"
   ]
  },
  {
   "cell_type": "markdown",
   "metadata": {},
   "source": [
    "We can compute the number of events in each match. We the plot the distribution of this quantity."
   ]
  },
  {
   "cell_type": "code",
   "execution_count": null,
   "metadata": {},
   "outputs": [],
   "source": [
    "values = [len(events) for events in serialized_events.values()]\n",
    "avg_n_events = np.mean(values)\n",
    "std_n_events = np.std(values)\n",
    "\n",
    "fig, ax = plt.subplots(figsize=(8,6))\n",
    "plt.hist(values, rwidth=0.9, bins=20)\n",
    "plt.grid(alpha=0.3)\n",
    "plt.yticks(fontsize=18)\n",
    "plt.xlabel('events (n)', fontsize=25)\n",
    "plt.ylabel('frequency (n)', fontsize=25)\n",
    "plt.xticks(fontsize=18)\n",
    "plt.text(0.1, 0.7,\n",
    "        '$\\mu$ = %i\\n$\\sigma$ = %i'%(avg_n_events, std_n_events),\n",
    "        fontsize=25, transform=ax.transAxes)\n",
    "fig.tight_layout()\n",
    "plt.show()"
   ]
  },
  {
   "cell_type": "markdown",
   "metadata": {},
   "source": [
    "## 6. Plot events on the field"
   ]
  },
  {
   "cell_type": "markdown",
   "metadata": {},
   "source": [
    "It is possible to create a *pandas DataFrame* with the standardized event's attributes. Let's take an Italian Serie A match and create a *DataFrame* for its events."
   ]
  },
  {
   "cell_type": "code",
   "execution_count": null,
   "metadata": {},
   "outputs": [],
   "source": [
    "match_id = 2576335\n",
    "match_events = []\n",
    "for event in serialized_events[match_id]:\n",
    "    match_events.append(event.to_dict())\n",
    "\n",
    "match_df = pd.DataFrame(match_events)\n",
    "match_df.head()"
   ]
  },
  {
   "cell_type": "markdown",
   "metadata": {},
   "source": [
    "Then we can plot them on a pitch."
   ]
  },
  {
   "cell_type": "code",
   "execution_count": null,
   "metadata": {},
   "outputs": [],
   "source": [
    "(fig,ax) = createPitch(120,80,'yards','gray')\n",
    "for i,event in match_df.iterrows():\n",
    "    if (event['team_id']==3161):\n",
    "        x=((event['start_position'].x)*120)/100\n",
    "        y=((event['start_position'].y)*80)/100\n",
    "        shotCircle=plt.Circle((x,y),1,color='red')\n",
    "    elif (event['team_id']==3162):\n",
    "        x=((100-event['start_position'].x)*120)/100\n",
    "        y=((100-event['start_position'].y)*80)/100\n",
    "        shotCircle=plt.Circle((x,y),1,color='blue')\n",
    "    ax.add_patch(shotCircle)\n",
    "\n",
    "plt.show()"
   ]
  },
  {
   "cell_type": "markdown",
   "metadata": {},
   "source": [
    "If we want to visualize all the shot that the players took during the match, it is possible to select them from the *DataFrame* and plot them as well. To add something interesting we also highlight the goals."
   ]
  },
  {
   "cell_type": "code",
   "execution_count": null,
   "metadata": {},
   "outputs": [],
   "source": [
    "(fig,ax) = createPitch(120,80,'yards','gray')\n",
    "\n",
    "for event in serialized_events[match_id]:\n",
    "    try:\n",
    "        if event.is_shot:\n",
    "            if event.team_id == 3161:\n",
    "                point = event.get_position(120,80,'R')\n",
    "                shotCircle = plt.Circle((point.x,point.y),2,color='red')\n",
    "            elif event.team_id == 3162:\n",
    "                point = event.get_position(120,80,'L')\n",
    "                shotCircle = plt.Circle((point.x,point.y),2,color='blue')\n",
    "            if not event.is_goal:\n",
    "                shotCircle.set_alpha(.2)\n",
    "            ax.add_patch(shotCircle)\n",
    "    except AttributeError:\n",
    "        pass\n",
    "\n",
    "plt.show()\n",
    "        "
   ]
  },
  {
   "cell_type": "markdown",
   "metadata": {},
   "source": [
    "The chosen match is Lazio-Internazionale 3-2. Our plot is not incorrect, it shows four goals beacuse during the match Ivan Perisic scored an own goal. It is interesting to see the shot taken during a penalty that took to a goal."
   ]
  },
  {
   "cell_type": "code",
   "execution_count": null,
   "metadata": {},
   "outputs": [],
   "source": [
    "match_accurate = []\n",
    "match_passes = []\n",
    "for a_match in list(matches.keys()):\n",
    "    accurate = 0\n",
    "    passes = 0\n",
    "    if '3161' in [matches[a_match].home_team.team_id, matches[a_match].away_team.team_id]:\n",
    "        for event in serialized_events[a_match]:\n",
    "            if event.team_id == 3161 and event.label.split(\"-\")[0] == 'Pass':\n",
    "                passes += 1\n",
    "                if event.outcome == 'success':\n",
    "                    accurate += 1\n",
    "        match_passes.append(passes)\n",
    "        match_accurate.append(accurate)\n",
    "\n",
    "accurate_percentage = []\n",
    "\n",
    "for accurate,passes in zip(match_accurate, match_passes):\n",
    "    percentage = (accurate*100)/passes\n",
    "    accurate_percentage.append(int(percentage))\n",
    "\n",
    "count = Counter(accurate_percentage)\n",
    "counter = {}\n",
    "for i, n_percentages in zip(count.keys(), count.values()):\n",
    "    counter[i] = int(float(n_percentages)/len(accurate_percentage)*100)\n",
    "sorted_d = np.array(sorted(counter.items(), key=operator.itemgetter(1), reverse=False))\n",
    "\n",
    "fig, ax = plt.subplots(figsize=(8,6))\n",
    "plt.barh(list(sorted_d[:,0]),[int(x) for x in list(sorted_d[:,1])])\n",
    "plt.xticks(rotation=90);plt.xticks(fontsize=18)\n",
    "plt.xlabel('matches with that percentage (%)', fontsize=25)\n",
    "plt.ylabel('accurate passes in a match (%)', fontsize=25)\n",
    "plt.yticks(fontsize=18)\n",
    "plt.grid(alpha=0.3)\n",
    "fig.tight_layout()\n",
    "plt.show()"
   ]
  },
  {
   "cell_type": "code",
   "execution_count": null,
   "metadata": {},
   "outputs": [],
   "source": [
    "match_accurate_shots = []\n",
    "match_shots = []\n",
    "for a_match in list(matches.keys()):\n",
    "    accurate = 0\n",
    "    shots = 0\n",
    "    if '3161' in [matches[a_match].home_team.team_id, matches[a_match].away_team.team_id]:\n",
    "        for event in serialized_events[a_match]:\n",
    "            if event.team_id == 3161 and event.label.split(\"-\")[0] == 'Shot':\n",
    "                shots += 1\n",
    "                if event.outcome == 'success':\n",
    "                    accurate += 1\n",
    "        match_shots.append(shots)\n",
    "        match_accurate_shots.append(accurate)\n",
    "\n",
    "accurate_percentage = []\n",
    "\n",
    "for accurate,shots in zip(match_accurate_shots, match_shots):\n",
    "    percentage = (accurate*100)/shots\n",
    "    accurate_percentage.append(int(percentage))\n",
    "    \n",
    "count = Counter(accurate_percentage)\n",
    "counter = {}\n",
    "for i, n_percentages in zip(count.keys(), count.values()):\n",
    "    counter[i] = int(float(n_percentages)/len(accurate_percentage)*100)\n",
    "sorted_d = np.array(sorted(counter.items(), key=operator.itemgetter(1), reverse=False))\n",
    "\n",
    "fig, ax = plt.subplots(figsize=(8,6))\n",
    "plt.barh(list(sorted_d[:,0]),[int(x) for x in list(sorted_d[:,1])])\n",
    "plt.xticks(rotation=90);plt.xticks(fontsize=18)\n",
    "plt.xlabel('matches with that percentage (%)', fontsize=25)\n",
    "plt.ylabel('accurate shots in a match (%)', fontsize=25)\n",
    "plt.yticks(fontsize=18)\n",
    "plt.grid(alpha=0.3)\n",
    "fig.tight_layout()\n",
    "plt.show()"
   ]
  }
 ],
 "metadata": {
  "kernelspec": {
   "display_name": "Python 3",
   "language": "python",
   "name": "python3"
  },
  "language_info": {
   "codemirror_mode": {
    "name": "ipython",
    "version": 3
   },
   "file_extension": ".py",
   "mimetype": "text/x-python",
   "name": "python",
   "nbconvert_exporter": "python",
   "pygments_lexer": "ipython3",
   "version": "3.7.7"
  }
 },
 "nbformat": 4,
 "nbformat_minor": 4
}
